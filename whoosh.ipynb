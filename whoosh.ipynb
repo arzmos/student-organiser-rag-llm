{
 "cells": [
  {
   "cell_type": "code",
   "execution_count": 3,
   "id": "6cac453c",
   "metadata": {},
   "outputs": [
    {
     "name": "stdout",
     "output_type": "stream",
     "text": [
      " * Serving Flask app '__main__'\n",
      " * Debug mode: on\n"
     ]
    },
    {
     "name": "stderr",
     "output_type": "stream",
     "text": [
      "WARNING: This is a development server. Do not use it in a production deployment. Use a production WSGI server instead.\n",
      " * Running on http://127.0.0.1:5000\n",
      "Press CTRL+C to quit\n",
      "127.0.0.1 - - [27/Jan/2025 21:58:25] \"GET / HTTP/1.1\" 404 -\n",
      "127.0.0.1 - - [27/Jan/2025 23:46:53] \"GET / HTTP/1.1\" 404 -\n"
     ]
    }
   ],
   "source": [
    "from flask import Flask, request, jsonify\n",
    "from whoosh.index import create_in\n",
    "from whoosh.fields import Schema, TEXT, ID\n",
    "from whoosh.qparser import QueryParser\n",
    "import os\n",
    "import json\n",
    "\n",
    "app = Flask(__name__)\n",
    "\n",
    "# Directory for Whoosh index\n",
    "INDEX_DIR = \"whoosh_index\"\n",
    "\n",
    "# Define Whoosh schema\n",
    "schema = Schema(\n",
    "    title=TEXT(stored=True),\n",
    "    content=TEXT(stored=True),\n",
    "    topic=TEXT(stored=True),\n",
    "    source=ID(stored=True)\n",
    ")\n",
    "\n",
    "# Load aggregated data\n",
    "DATA_FILE = \"aggregated_data.json\"\n",
    "if os.path.exists(DATA_FILE):\n",
    "    with open(DATA_FILE, \"r\") as f:\n",
    "        all_data = json.load(f)\n",
    "else:\n",
    "    all_data = []\n",
    "\n",
    "# Initialize Whoosh index\n",
    "if not os.path.exists(INDEX_DIR):\n",
    "    os.mkdir(INDEX_DIR)\n",
    "    ix = create_in(INDEX_DIR, schema)\n",
    "    writer = ix.writer()\n",
    "    for doc in all_data:\n",
    "        writer.add_document(\n",
    "            title=doc.get(\"title\", \"\"),\n",
    "            content=doc.get(\"content\", \"\"),\n",
    "            topic=doc.get(\"topic\", \"\"),\n",
    "            source=doc.get(\"source\", \"\")\n",
    "        )\n",
    "    writer.commit()\n",
    "else:\n",
    "    from whoosh.index import open_dir\n",
    "    ix = open_dir(INDEX_DIR)\n",
    "\n",
    "@app.route(\"/search\", methods=[\"GET\"])\n",
    "def search():\n",
    "    \"\"\"Search the indexed data using a query.\"\"\"\n",
    "    query_str = request.args.get(\"q\", \"\")\n",
    "    if not query_str:\n",
    "        return jsonify({\"error\": \"No query provided\"}), 400\n",
    "\n",
    "    with ix.searcher() as searcher:\n",
    "        query = QueryParser(\"content\", ix.schema).parse(query_str)\n",
    "        results = searcher.search(query, limit=10)\n",
    "        response = []\n",
    "        for result in results:\n",
    "            response.append({\n",
    "                \"title\": result[\"title\"],\n",
    "                \"topic\": result[\"topic\"],\n",
    "                \"source\": result[\"source\"],\n",
    "                \"snippet\": result.highlights(\"content\")\n",
    "            })\n",
    "        return jsonify(response)\n",
    "\n",
    "@app.route(\"/topics\", methods=[\"GET\"])\n",
    "def get_topics():\n",
    "    \"\"\"Return all unique topics from the data.\"\"\"\n",
    "    topics = list(set(doc[\"topic\"] for doc in all_data))\n",
    "    return jsonify(topics)\n",
    "\n",
    "@app.route(\"/documents\", methods=[\"GET\"])\n",
    "def get_documents():\n",
    "    \"\"\"Retrieve documents by topic.\"\"\"\n",
    "    topic = request.args.get(\"topic\", \"\")\n",
    "    if not topic:\n",
    "        return jsonify({\"error\": \"No topic provided\"}), 400\n",
    "\n",
    "    filtered_docs = [doc for doc in all_data if doc[\"topic\"] == topic]\n",
    "    return jsonify(filtered_docs)\n",
    "\n",
    "if __name__ == \"__main__\":\n",
    "    app.run(debug=True, use_reloader=False)\n",
    "\n"
   ]
  },
  {
   "cell_type": "code",
   "execution_count": null,
   "id": "e69f71a8",
   "metadata": {},
   "outputs": [],
   "source": []
  }
 ],
 "metadata": {
  "kernelspec": {
   "display_name": "Python 3 (ipykernel)",
   "language": "python",
   "name": "python3"
  },
  "language_info": {
   "codemirror_mode": {
    "name": "ipython",
    "version": 3
   },
   "file_extension": ".py",
   "mimetype": "text/x-python",
   "name": "python",
   "nbconvert_exporter": "python",
   "pygments_lexer": "ipython3",
   "version": "3.11.4"
  }
 },
 "nbformat": 4,
 "nbformat_minor": 5
}
